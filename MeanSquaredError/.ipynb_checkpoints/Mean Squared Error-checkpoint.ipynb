{
 "cells": [
  {
   "cell_type": "code",
   "execution_count": 49,
   "metadata": {
    "executionInfo": {
     "elapsed": 311,
     "status": "ok",
     "timestamp": 1676366854685,
     "user": {
      "displayName": "Quang Minh Nguyễn",
      "userId": "17314044887814069623"
     },
     "user_tz": -420
    },
    "id": "Jb-_Z_zGHbeN"
   },
   "outputs": [],
   "source": [
    "import numpy as np\n",
    "import matplotlib.pyplot as plt\n",
    "%matplotlib inline"
   ]
  },
  {
   "cell_type": "code",
   "execution_count": 50,
   "metadata": {
    "executionInfo": {
     "elapsed": 46,
     "status": "ok",
     "timestamp": 1676366858197,
     "user": {
      "displayName": "Quang Minh Nguyễn",
      "userId": "17314044887814069623"
     },
     "user_tz": -420
    },
    "id": "ooz58fnDHnvy"
   },
   "outputs": [],
   "source": [
    "def input_data():\n",
    "  dataX, dataY = [], []\n",
    "  with open('F:\\\\OneDrive - Hanoi University of Science and Technology\\\\Desktop\\\\NhomPPSPhan2\\\\MeanSquaredError\\\\CK-2016-2.txt', 'r') as file:\n",
    "    for line in file:\n",
    "      # print(line)\n",
    "      \n",
    "      _X, _Y = line.split(' ')\n",
    "      dataX.append(float(_X))\n",
    "      dataY.append(float(_Y))\n",
    "  \n",
    "  if len(dataX) == len(dataY): \n",
    "    print('Input Satisfied !')\n",
    "  else:\n",
    "    print('Error ! ')\n",
    "\n",
    "  dataX = np.asarray(dataX)\n",
    "  dataY = np.asarray(dataY)\n",
    "  return dataX, dataY"
   ]
  },
  {
   "cell_type": "code",
   "execution_count": 51,
   "metadata": {
    "colab": {
     "base_uri": "https://localhost:8080/"
    },
    "executionInfo": {
     "elapsed": 45,
     "status": "ok",
     "timestamp": 1676366858198,
     "user": {
      "displayName": "Quang Minh Nguyễn",
      "userId": "17314044887814069623"
     },
     "user_tz": -420
    },
    "id": "VVHNlLJ_Icel",
    "outputId": "621b5e19-9336-4805-87b6-fa0d2dd9b345"
   },
   "outputs": [
    {
     "name": "stdout",
     "output_type": "stream",
     "text": [
      "Input Satisfied !\n"
     ]
    }
   ],
   "source": [
    "dataX, dataY = input_data()"
   ]
  },
  {
   "cell_type": "code",
   "execution_count": 52,
   "metadata": {
    "colab": {
     "base_uri": "https://localhost:8080/"
    },
    "executionInfo": {
     "elapsed": 42,
     "status": "ok",
     "timestamp": 1676366858199,
     "user": {
      "displayName": "Quang Minh Nguyễn",
      "userId": "17314044887814069623"
     },
     "user_tz": -420
    },
    "id": "qBPdj-9LHgYI",
    "outputId": "ca51e176-7de4-4096-ed2c-ec97ab8b9a1f"
   },
   "outputs": [
    {
     "name": "stdout",
     "output_type": "stream",
     "text": [
      "[0.5 0.7 0.8 0.9 1.1 1.2 1.3 1.5]\n",
      "[1.57 2.34 2.75 3.17 4.05 4.5  4.94 5.86]\n"
     ]
    }
   ],
   "source": [
    "print(dataX)\n",
    "print(dataY)"
   ]
  },
  {
   "cell_type": "code",
   "execution_count": 53,
   "metadata": {
    "colab": {
     "base_uri": "https://localhost:8080/",
     "height": 282
    },
    "executionInfo": {
     "elapsed": 39,
     "status": "ok",
     "timestamp": 1676366858200,
     "user": {
      "displayName": "Quang Minh Nguyễn",
      "userId": "17314044887814069623"
     },
     "user_tz": -420
    },
    "id": "FW_xiMQmI-WS",
    "outputId": "36220d58-71f8-4f0c-9177-58c7a5ef0979"
   },
   "outputs": [
    {
     "data": {
      "text/plain": [
       "<matplotlib.collections.PathCollection at 0x2a2ea0c24c0>"
      ]
     },
     "execution_count": 53,
     "metadata": {},
     "output_type": "execute_result"
    },
    {
     "data": {
      "image/png": "[encoded data removed]",
      "text/plain": [
       "<Figure size 432x288 with 1 Axes>"
      ]
     },
     "metadata": {
      "needs_background": "light"
     },
     "output_type": "display_data"
    }
   ],
   "source": [
    "plt.scatter(dataX, dataY)"
   ]
  },
  {
   "cell_type": "code",
   "execution_count": 54,
   "metadata": {
    "executionInfo": {
     "elapsed": 37,
     "status": "ok",
     "timestamp": 1676366858202,
     "user": {
      "displayName": "Quang Minh Nguyễn",
      "userId": "17314044887814069623"
     },
     "user_tz": -420
    },
    "id": "Vusg1_m_K6Xn"
   },
   "outputs": [],
   "source": [
    "def u0(x):\n",
    "  return 1\n",
    "def u1(x):\n",
    "  return x\n",
    "def u2(x):\n",
    "  return x**2\n",
    "def u3(x):\n",
    "  return x**3\n",
    "def u4(x):\n",
    "  return x**4\n",
    "def u5(x):\n",
    "  return np.sin(x)\n",
    "def u6(x):\n",
    "  return np.cos(x)\n",
    "def u7(x):\n",
    "  return np.sin(x)\n",
    "def u8(x):\n",
    "  return np.cos(x)\n",
    "def u9(x):\n",
    "  return np.exp(x)\n",
    "def u10(x):\n",
    "  return np.exp(-x)\n",
    "def u11(x):\n",
    "    return np.log(x)"
   ]
  },
  {
   "cell_type": "code",
   "execution_count": 55,
   "metadata": {
    "executionInfo": {
     "elapsed": 38,
     "status": "ok",
     "timestamp": 1676366858203,
     "user": {
      "displayName": "Quang Minh Nguyễn",
      "userId": "17314044887814069623"
     },
     "user_tz": -420
    },
    "id": "XXhABrO8NOIX"
   },
   "outputs": [],
   "source": [
    "def call_func(u, x):\n",
    "  result = []\n",
    "  for i in range(len(u)):\n",
    "    temp = list(map(u[i], x))\n",
    "    result.append(temp)\n",
    "\n",
    "  return np.array(result).T"
   ]
  },
  {
   "cell_type": "code",
   "execution_count": 56,
   "metadata": {
    "executionInfo": {
     "elapsed": 38,
     "status": "ok",
     "timestamp": 1676366858204,
     "user": {
      "displayName": "Quang Minh Nguyễn",
      "userId": "17314044887814069623"
     },
     "user_tz": -420
    },
    "id": "mFcg3CgPKxDC"
   },
   "outputs": [],
   "source": [
    "def vienquanh_inverse(A):\n",
    "    n, _ = A.shape\n",
    "    if n == 1:\n",
    "        return 1 / A\n",
    "    elif n > 1:\n",
    "        start = 1 / A[0,0]\n",
    "        for i in range(n-1):\n",
    "            alpha11 = start\n",
    "            alpha12 = A[:(i+1),i+1].reshape(i+1,1)\n",
    "            alpha21 = A[i+1,:i+1]\n",
    "            alpha22 = A[i+1,i+1]\n",
    "            if i == 0:\n",
    "                X = alpha11 * alpha12\n",
    "            else:\n",
    "                X = alpha11 @ alpha12\n",
    "            if i == 0:\n",
    "                Y = alpha21 * alpha11\n",
    "            else :\n",
    "                Y = alpha21 @ alpha11\n",
    "                Y = Y.reshape(1,-1)\n",
    "            if i == 0:\n",
    "                theta = alpha22 - Y * alpha12\n",
    "            else :\n",
    "                theta = alpha22 - Y @ alpha12           \n",
    "            if i == 0:\n",
    "                beta11 = alpha11 + (1/theta) * (X*Y)\n",
    "            else :\n",
    "                beta11 = alpha11 + (1/theta) * (X@Y)            \n",
    "            beta12 = -(1/theta) * X\n",
    "            beta21 = -(1/theta) *Y\n",
    "            beta22 = 1 / theta\n",
    "            tempt_result = np.vstack((np.hstack((beta11,beta12)),np.hstack((beta21,beta22))))\n",
    "            start = tempt_result\n",
    "        return tempt_result"
   ]
  },
  {
   "cell_type": "code",
   "execution_count": 57,
   "metadata": {
    "executionInfo": {
     "elapsed": 39,
     "status": "ok",
     "timestamp": 1676366858205,
     "user": {
      "displayName": "Quang Minh Nguyễn",
      "userId": "17314044887814069623"
     },
     "user_tz": -420
    },
    "id": "HsI8OuklEKWs"
   },
   "outputs": [],
   "source": [
    "def mse(y_test, dataY):\n",
    "  n = len(dataY)\n",
    "  mse = 0\n",
    "  for i in range(n):\n",
    "    mse += (y_test[i] - dataY[i]) ** 2\n",
    "  mse = np.sqrt(mse / n)\n",
    "  return mse"
   ]
  },
  {
   "cell_type": "code",
   "execution_count": 58,
   "metadata": {
    "executionInfo": {
     "elapsed": 39,
     "status": "ok",
     "timestamp": 1676366858206,
     "user": {
      "displayName": "Quang Minh Nguyễn",
      "userId": "17314044887814069623"
     },
     "user_tz": -420
    },
    "id": "etPCmfF_NOsO"
   },
   "outputs": [],
   "source": [
    "# u = [u0,u1,u2,u3,u4,u10]\n",
    "u = [u2,u7]"
   ]
  },
  {
   "cell_type": "code",
   "execution_count": 59,
   "metadata": {
    "colab": {
     "base_uri": "https://localhost:8080/"
    },
    "executionInfo": {
     "elapsed": 39,
     "status": "ok",
     "timestamp": 1676366858206,
     "user": {
      "displayName": "Quang Minh Nguyễn",
      "userId": "17314044887814069623"
     },
     "user_tz": -420
    },
    "id": "1Stq0A2YPJYJ",
    "outputId": "7672aa0f-00ce-47f3-b610-6d4453767bb0"
   },
   "outputs": [
    {
     "name": "stdout",
     "output_type": "stream",
     "text": [
      "[[0.25       0.47942554]\n",
      " [0.49       0.64421769]\n",
      " [0.64       0.71735609]\n",
      " [0.81       0.78332691]\n",
      " [1.21       0.89120736]\n",
      " [1.44       0.93203909]\n",
      " [1.69       0.96355819]\n",
      " [2.25       0.99749499]]\n"
     ]
    }
   ],
   "source": [
    "theta = call_func(u, dataX)\n",
    "print(theta)"
   ]
  },
  {
   "cell_type": "code",
   "execution_count": 60,
   "metadata": {
    "colab": {
     "base_uri": "https://localhost:8080/"
    },
    "executionInfo": {
     "elapsed": 35,
     "status": "ok",
     "timestamp": 1676366858206,
     "user": {
      "displayName": "Quang Minh Nguyễn",
      "userId": "17314044887814069623"
     },
     "user_tz": -420
    },
    "id": "J1vW0d91PVxh",
    "outputId": "0c5beb38-55a2-4171-a1c3-32ee88060bc6"
   },
   "outputs": [
    {
     "name": "stdout",
     "output_type": "stream",
     "text": [
      "[[12.8246      7.82239999]\n",
      " [ 7.82239999  5.35945413]]\n"
     ]
    }
   ],
   "source": [
    "M = theta.T @ theta \n",
    "print(M)"
   ]
  },
  {
   "cell_type": "code",
   "execution_count": 61,
   "metadata": {
    "colab": {
     "base_uri": "https://localhost:8080/"
    },
    "executionInfo": {
     "elapsed": 33,
     "status": "ok",
     "timestamp": 1676366858207,
     "user": {
      "displayName": "Quang Minh Nguyễn",
      "userId": "17314044887814069623"
     },
     "user_tz": -420
    },
    "id": "IQKWzNuuPsz6",
    "outputId": "e588492a-c57b-44ef-888c-b979eadb4ec2"
   },
   "outputs": [
    {
     "name": "stdout",
     "output_type": "stream",
     "text": [
      "[1.49907373 2.49998454]\n"
     ]
    }
   ],
   "source": [
    "coef_matrix = np.linalg.pinv(M) @ theta.T @ dataY\n",
    "#coef_matrix = vienquanh_inverse(M) @ theta.T @ dataY\n",
    "print(coef_matrix)"
   ]
  },
  {
   "cell_type": "code",
   "execution_count": 62,
   "metadata": {
    "executionInfo": {
     "elapsed": 31,
     "status": "ok",
     "timestamp": 1676366858208,
     "user": {
      "displayName": "Quang Minh Nguyễn",
      "userId": "17314044887814069623"
     },
     "user_tz": -420
    },
    "id": "JKpbxKXFP78_"
   },
   "outputs": [],
   "source": [
    "def find_y(dataX, u, coef_matrix):\n",
    "  y = 0\n",
    "  for i in range(len(u)):\n",
    "    y += coef_matrix[i] * u[i](dataX)\n",
    "  return y"
   ]
  },
  {
   "cell_type": "code",
   "execution_count": 63,
   "metadata": {
    "colab": {
     "base_uri": "https://localhost:8080/"
    },
    "executionInfo": {
     "elapsed": 31,
     "status": "ok",
     "timestamp": 1676366858208,
     "user": {
      "displayName": "Quang Minh Nguyễn",
      "userId": "17314044887814069623"
     },
     "user_tz": -420
    },
    "id": "rg8kHI0cQwcd",
    "outputId": "420fcc18-10f2-4582-9cce-58ef0e917d72"
   },
   "outputs": [
    {
     "name": "stdout",
     "output_type": "stream",
     "text": [
      "[1.57332487 2.34508039 2.75278633 3.17255489 4.04188384 4.48874948\n",
      " 4.94231517 5.86663794]\n"
     ]
    }
   ],
   "source": [
    "y_test = find_y(dataX, u, coef_matrix)\n",
    "print(y_test)"
   ]
  },
  {
   "cell_type": "code",
   "execution_count": 64,
   "metadata": {
    "executionInfo": {
     "elapsed": 335,
     "status": "ok",
     "timestamp": 1676366879231,
     "user": {
      "displayName": "Quang Minh Nguyễn",
      "userId": "17314044887814069623"
     },
     "user_tz": -420
    },
    "id": "WlGEWJp0Q4_m"
   },
   "outputs": [],
   "source": [
    "def graphic(dataX, dataY, u, coef_matrix):\n",
    "  X_test = np.linspace(dataX.min(), dataY.max(), 10000)\n",
    "  Y_test = []\n",
    "  for i in range(len(X_test)):\n",
    "    Y_test.append(find_y(X_test[i], u, coef_matrix))\n",
    "  plt.scatter(dataX, dataY, s = 30, color = 'blue')\n",
    "\n",
    "  plt.plot(X_test, Y_test, color = 'red')\n",
    "    \n",
    "  plt.tight_layout()\n",
    "  # plt.ylim(7,10)\n",
    "  plt.show()"
   ]
  },
  {
   "cell_type": "code",
   "execution_count": 65,
   "metadata": {
    "colab": {
     "base_uri": "https://localhost:8080/",
     "height": 297
    },
    "executionInfo": {
     "elapsed": 2473,
     "status": "ok",
     "timestamp": 1676366883858,
     "user": {
      "displayName": "Quang Minh Nguyễn",
      "userId": "17314044887814069623"
     },
     "user_tz": -420
    },
    "id": "B9ATp7bjSDxQ",
    "outputId": "b957c073-194f-4f97-fa9e-145060d47e09"
   },
   "outputs": [
    {
     "data": {
      "image/png": "[encoded data removed]",
      "text/plain": [
       "<Figure size 432x288 with 1 Axes>"
      ]
     },
     "metadata": {
      "needs_background": "light"
     },
     "output_type": "display_data"
    }
   ],
   "source": [
    "graphic(dataX, dataY, u, coef_matrix)"
   ]
  },
  {
   "cell_type": "code",
   "execution_count": 66,
   "metadata": {
    "colab": {
     "base_uri": "https://localhost:8080/"
    },
    "executionInfo": {
     "elapsed": 27,
     "status": "ok",
     "timestamp": 1676366862692,
     "user": {
      "displayName": "Quang Minh Nguyễn",
      "userId": "17314044887814069623"
     },
     "user_tz": -420
    },
    "id": "dECsz1HOsoW8",
    "outputId": "b88128da-f955-4d15-bb6c-09f304d443a9"
   },
   "outputs": [
    {
     "name": "stdout",
     "output_type": "stream",
     "text": [
      "Sai so trung binh phuong: \n",
      "\n",
      "0.006052114693170127\n"
     ]
    }
   ],
   "source": [
    "print('Sai so trung binh phuong: \\n')\n",
    "print(mse(y_test, dataY))"
   ]
  },
  {
   "cell_type": "code",
   "execution_count": null,
   "metadata": {
    "executionInfo": {
     "elapsed": 25,
     "status": "ok",
     "timestamp": 1676366862693,
     "user": {
      "displayName": "Quang Minh Nguyễn",
      "userId": "17314044887814069623"
     },
     "user_tz": -420
    },
    "id": "GOB37qpSFRgu"
   },
   "outputs": [],
   "source": []
  }
 ],
 "metadata": {
  "colab": {
   "authorship_tag": "ABX9TyNTWlKlGol90/geqnp7eh6l",
   "provenance": []
  },
  "kernelspec": {
   "display_name": "Python 3 (ipykernel)",
   "language": "python",
   "name": "python3"
  },
  "language_info": {
   "codemirror_mode": {
    "name": "ipython",
    "version": 3
   },
   "file_extension": ".py",
   "mimetype": "text/x-python",
   "name": "python",
   "nbconvert_exporter": "python",
   "pygments_lexer": "ipython3",
   "version": "3.9.7"
  }
 },
 "nbformat": 4,
 "nbformat_minor": 1
}
