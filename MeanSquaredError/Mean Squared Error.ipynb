{
 "cells": [
  {
   "cell_type": "code",
   "execution_count": 28,
   "metadata": {
    "executionInfo": {
     "elapsed": 311,
     "status": "ok",
     "timestamp": 1676366854685,
     "user": {
      "displayName": "Quang Minh Nguyễn",
      "userId": "17314044887814069623"
     },
     "user_tz": -420
    },
    "id": "Jb-_Z_zGHbeN"
   },
   "outputs": [],
   "source": [
    "import numpy as np\n",
    "import matplotlib.pyplot as plt\n",
    "%matplotlib inline"
   ]
  },
  {
   "cell_type": "code",
   "execution_count": 29,
   "metadata": {
    "executionInfo": {
     "elapsed": 46,
     "status": "ok",
     "timestamp": 1676366858197,
     "user": {
      "displayName": "Quang Minh Nguyễn",
      "userId": "17314044887814069623"
     },
     "user_tz": -420
    },
    "id": "ooz58fnDHnvy"
   },
   "outputs": [],
   "source": [
    "def input_data():\n",
    "  dataX, dataY = [], []\n",
    "  with open('F:\\\\OneDrive - Hanoi University of Science and Technology\\\\Desktop\\\\NhomPPSPhan2\\\\MeanSquaredError\\\\ham_gamma.txt', 'r') as file:\n",
    "    for line in file:\n",
    "      # print(line)\n",
    "      \n",
    "      _X, _Y = line.split(' ')\n",
    "      dataX.append(float(_X))\n",
    "      dataY.append(float(_Y))\n",
    "  \n",
    "  if len(dataX) == len(dataY): \n",
    "    print('Input Satisfied !')\n",
    "  else:\n",
    "    print('Error ! ')\n",
    "\n",
    "  dataX = np.asarray(dataX)\n",
    "  dataY = np.asarray(dataY)\n",
    "  return dataX, dataY"
   ]
  },
  {
   "cell_type": "code",
   "execution_count": 30,
   "metadata": {
    "colab": {
     "base_uri": "https://localhost:8080/"
    },
    "executionInfo": {
     "elapsed": 45,
     "status": "ok",
     "timestamp": 1676366858198,
     "user": {
      "displayName": "Quang Minh Nguyễn",
      "userId": "17314044887814069623"
     },
     "user_tz": -420
    },
    "id": "VVHNlLJ_Icel",
    "outputId": "621b5e19-9336-4805-87b6-fa0d2dd9b345"
   },
   "outputs": [
    {
     "name": "stdout",
     "output_type": "stream",
     "text": [
      "Input Satisfied !\n"
     ]
    }
   ],
   "source": [
    "dataX, dataY = input_data()"
   ]
  },
  {
   "cell_type": "code",
   "execution_count": 31,
   "metadata": {
    "colab": {
     "base_uri": "https://localhost:8080/"
    },
    "executionInfo": {
     "elapsed": 42,
     "status": "ok",
     "timestamp": 1676366858199,
     "user": {
      "displayName": "Quang Minh Nguyễn",
      "userId": "17314044887814069623"
     },
     "user_tz": -420
    },
    "id": "qBPdj-9LHgYI",
    "outputId": "ca51e176-7de4-4096-ed2c-ec97ab8b9a1f"
   },
   "outputs": [
    {
     "name": "stdout",
     "output_type": "stream",
     "text": [
      "[1.   1.05 1.1  1.15 1.2  1.25 1.3  1.35 1.4  1.45 1.5  1.55 1.6  1.65\n",
      " 1.7  1.75 1.8  1.85 1.9  1.95 2.  ]\n",
      "[1.      0.9735  0.95135 0.93304 0.91817 0.9064  0.89747 0.89115 0.88726\n",
      " 0.88565 0.88623 0.88887 0.89352 0.90012 0.90864 0.91906 0.93138 0.94561\n",
      " 0.96177 0.97988 1.     ]\n"
     ]
    }
   ],
   "source": [
    "print(dataX)\n",
    "print(dataY)"
   ]
  },
  {
   "cell_type": "code",
   "execution_count": 32,
   "metadata": {
    "colab": {
     "base_uri": "https://localhost:8080/",
     "height": 282
    },
    "executionInfo": {
     "elapsed": 39,
     "status": "ok",
     "timestamp": 1676366858200,
     "user": {
      "displayName": "Quang Minh Nguyễn",
      "userId": "17314044887814069623"
     },
     "user_tz": -420
    },
    "id": "FW_xiMQmI-WS",
    "outputId": "36220d58-71f8-4f0c-9177-58c7a5ef0979"
   },
   "outputs": [
    {
     "data": {
      "text/plain": [
       "<matplotlib.collections.PathCollection at 0x13cc7de9ca0>"
      ]
     },
     "execution_count": 32,
     "metadata": {},
     "output_type": "execute_result"
    },
    {
     "data": {
      "image/png": "[encoded data removed]",
      "text/plain": [
       "<Figure size 432x288 with 1 Axes>"
      ]
     },
     "metadata": {
      "needs_background": "light"
     },
     "output_type": "display_data"
    }
   ],
   "source": [
    "plt.scatter(dataX, dataY)"
   ]
  },
  {
   "cell_type": "code",
   "execution_count": 33,
   "metadata": {
    "executionInfo": {
     "elapsed": 37,
     "status": "ok",
     "timestamp": 1676366858202,
     "user": {
      "displayName": "Quang Minh Nguyễn",
      "userId": "17314044887814069623"
     },
     "user_tz": -420
    },
    "id": "Vusg1_m_K6Xn"
   },
   "outputs": [],
   "source": [
    "def u0(x):\n",
    "  return 1\n",
    "def u1(x):\n",
    "  return x\n",
    "def u2(x):\n",
    "  return x**2\n",
    "def u3(x):\n",
    "  return x**3\n",
    "def u4(x):\n",
    "  return x**4\n",
    "def u5(x):\n",
    "  return np.sin(x)\n",
    "def u6(x):\n",
    "  return np.cos(x)\n",
    "def u7(x):\n",
    "  return np.sin(x)\n",
    "def u8(x):\n",
    "  return np.cos(x)\n",
    "def u9(x):\n",
    "  return np.exp(x)\n",
    "def u10(x):\n",
    "  return np.exp(-x)\n",
    "def u11(x):\n",
    "    return np.log(x)"
   ]
  },
  {
   "cell_type": "code",
   "execution_count": 34,
   "metadata": {
    "executionInfo": {
     "elapsed": 38,
     "status": "ok",
     "timestamp": 1676366858203,
     "user": {
      "displayName": "Quang Minh Nguyễn",
      "userId": "17314044887814069623"
     },
     "user_tz": -420
    },
    "id": "XXhABrO8NOIX"
   },
   "outputs": [],
   "source": [
    "def call_func(u, x):\n",
    "  result = []\n",
    "  for i in range(len(u)):\n",
    "    temp = list(map(u[i], x))\n",
    "    result.append(temp)\n",
    "\n",
    "  return np.array(result).T"
   ]
  },
  {
   "cell_type": "code",
   "execution_count": 35,
   "metadata": {
    "executionInfo": {
     "elapsed": 38,
     "status": "ok",
     "timestamp": 1676366858204,
     "user": {
      "displayName": "Quang Minh Nguyễn",
      "userId": "17314044887814069623"
     },
     "user_tz": -420
    },
    "id": "mFcg3CgPKxDC"
   },
   "outputs": [],
   "source": [
    "def vienquanh_inverse(A):\n",
    "    n, _ = A.shape\n",
    "    if n == 1:\n",
    "        return 1 / A\n",
    "    elif n > 1:\n",
    "        start = 1 / A[0,0]\n",
    "        for i in range(n-1):\n",
    "            alpha11 = start\n",
    "            alpha12 = A[:(i+1),i+1].reshape(i+1,1)\n",
    "            alpha21 = A[i+1,:i+1]\n",
    "            alpha22 = A[i+1,i+1]\n",
    "            if i == 0:\n",
    "                X = alpha11 * alpha12\n",
    "            else:\n",
    "                X = alpha11 @ alpha12\n",
    "            if i == 0:\n",
    "                Y = alpha21 * alpha11\n",
    "            else :\n",
    "                Y = alpha21 @ alpha11\n",
    "                Y = Y.reshape(1,-1)\n",
    "            if i == 0:\n",
    "                theta = alpha22 - Y * alpha12\n",
    "            else :\n",
    "                theta = alpha22 - Y @ alpha12           \n",
    "            if i == 0:\n",
    "                beta11 = alpha11 + (1/theta) * (X*Y)\n",
    "            else :\n",
    "                beta11 = alpha11 + (1/theta) * (X@Y)            \n",
    "            beta12 = -(1/theta) * X\n",
    "            beta21 = -(1/theta) *Y\n",
    "            beta22 = 1 / theta\n",
    "            tempt_result = np.vstack((np.hstack((beta11,beta12)),np.hstack((beta21,beta22))))\n",
    "            start = tempt_result\n",
    "        return tempt_result"
   ]
  },
  {
   "cell_type": "code",
   "execution_count": 36,
   "metadata": {
    "executionInfo": {
     "elapsed": 39,
     "status": "ok",
     "timestamp": 1676366858205,
     "user": {
      "displayName": "Quang Minh Nguyễn",
      "userId": "17314044887814069623"
     },
     "user_tz": -420
    },
    "id": "HsI8OuklEKWs"
   },
   "outputs": [],
   "source": [
    "def mse(y_test, dataY):\n",
    "  n = len(dataY)\n",
    "  mse = 0\n",
    "  for i in range(n):\n",
    "    mse += (y_test[i] - dataY[i]) ** 2\n",
    "  mse = np.sqrt(mse / n)\n",
    "  return mse"
   ]
  },
  {
   "cell_type": "code",
   "execution_count": 37,
   "metadata": {
    "executionInfo": {
     "elapsed": 39,
     "status": "ok",
     "timestamp": 1676366858206,
     "user": {
      "displayName": "Quang Minh Nguyễn",
      "userId": "17314044887814069623"
     },
     "user_tz": -420
    },
    "id": "etPCmfF_NOsO"
   },
   "outputs": [],
   "source": [
    "# u = [u0,u1,u2,u3,u4,u10]\n",
    "# u = [u2,u7]\n",
    "u = [u0, u1, u2, u3, u11]"
   ]
  },
  {
   "cell_type": "code",
   "execution_count": 38,
   "metadata": {
    "colab": {
     "base_uri": "https://localhost:8080/"
    },
    "executionInfo": {
     "elapsed": 39,
     "status": "ok",
     "timestamp": 1676366858206,
     "user": {
      "displayName": "Quang Minh Nguyễn",
      "userId": "17314044887814069623"
     },
     "user_tz": -420
    },
    "id": "1Stq0A2YPJYJ",
    "outputId": "7672aa0f-00ce-47f3-b610-6d4453767bb0"
   },
   "outputs": [
    {
     "name": "stdout",
     "output_type": "stream",
     "text": [
      "[[1.         1.         1.         1.         0.        ]\n",
      " [1.         1.05       1.1025     1.157625   0.04879016]\n",
      " [1.         1.1        1.21       1.331      0.09531018]\n",
      " [1.         1.15       1.3225     1.520875   0.13976194]\n",
      " [1.         1.2        1.44       1.728      0.18232156]\n",
      " [1.         1.25       1.5625     1.953125   0.22314355]\n",
      " [1.         1.3        1.69       2.197      0.26236426]\n",
      " [1.         1.35       1.8225     2.460375   0.30010459]\n",
      " [1.         1.4        1.96       2.744      0.33647224]\n",
      " [1.         1.45       2.1025     3.048625   0.37156356]\n",
      " [1.         1.5        2.25       3.375      0.40546511]\n",
      " [1.         1.55       2.4025     3.723875   0.43825493]\n",
      " [1.         1.6        2.56       4.096      0.47000363]\n",
      " [1.         1.65       2.7225     4.492125   0.50077529]\n",
      " [1.         1.7        2.89       4.913      0.53062825]\n",
      " [1.         1.75       3.0625     5.359375   0.55961579]\n",
      " [1.         1.8        3.24       5.832      0.58778666]\n",
      " [1.         1.85       3.4225     6.331625   0.61518564]\n",
      " [1.         1.9        3.61       6.859      0.64185389]\n",
      " [1.         1.95       3.8025     7.414875   0.66782937]\n",
      " [1.         2.         4.         8.         0.69314718]]\n"
     ]
    }
   ],
   "source": [
    "theta = call_func(u, dataX)\n",
    "print(theta)"
   ]
  },
  {
   "cell_type": "code",
   "execution_count": 39,
   "metadata": {
    "colab": {
     "base_uri": "https://localhost:8080/"
    },
    "executionInfo": {
     "elapsed": 35,
     "status": "ok",
     "timestamp": 1676366858206,
     "user": {
      "displayName": "Quang Minh Nguyễn",
      "userId": "17314044887814069623"
     },
     "user_tz": -420
    },
    "id": "J1vW0d91PVxh",
    "outputId": "0c5beb38-55a2-4171-a1c3-32ee88060bc6"
   },
   "outputs": [
    {
     "name": "stdout",
     "output_type": "stream",
     "text": [
      "[[ 21.          31.5         49.175       79.5375       8.07037778]\n",
      " [ 31.5         49.175       79.5375     132.6166625   13.42192239]\n",
      " [ 49.175       79.5375     132.6166625  226.81246875  22.81430773]\n",
      " [ 79.5375     132.6166625  226.81246875 396.13199703  39.5215198 ]\n",
      " [  8.07037778  13.42192239  22.81430773  39.5215198    4.00945976]]\n"
     ]
    }
   ],
   "source": [
    "M = theta.T @ theta \n",
    "print(M)"
   ]
  },
  {
   "cell_type": "code",
   "execution_count": 40,
   "metadata": {
    "colab": {
     "base_uri": "https://localhost:8080/"
    },
    "executionInfo": {
     "elapsed": 33,
     "status": "ok",
     "timestamp": 1676366858207,
     "user": {
      "displayName": "Quang Minh Nguyễn",
      "userId": "17314044887814069623"
     },
     "user_tz": -420
    },
    "id": "IQKWzNuuPsz6",
    "outputId": "e588492a-c57b-44ef-888c-b979eadb4ec2"
   },
   "outputs": [
    {
     "name": "stdout",
     "output_type": "stream",
     "text": [
      "[-2.23991118  4.18838608 -1.14340244  0.19490849 -3.06214611]\n"
     ]
    }
   ],
   "source": [
    "coef_matrix = np.linalg.pinv(M) @ theta.T @ dataY\n",
    "#coef_matrix = vienquanh_inverse(M) @ theta.T @ dataY\n",
    "print(coef_matrix)"
   ]
  },
  {
   "cell_type": "code",
   "execution_count": 41,
   "metadata": {
    "executionInfo": {
     "elapsed": 31,
     "status": "ok",
     "timestamp": 1676366858208,
     "user": {
      "displayName": "Quang Minh Nguyễn",
      "userId": "17314044887814069623"
     },
     "user_tz": -420
    },
    "id": "JKpbxKXFP78_"
   },
   "outputs": [],
   "source": [
    "def find_y(dataX, u, coef_matrix):\n",
    "  y = 0\n",
    "  for i in range(len(u)):\n",
    "    y += coef_matrix[i] * u[i](dataX)\n",
    "  return y"
   ]
  },
  {
   "cell_type": "code",
   "execution_count": 42,
   "metadata": {
    "colab": {
     "base_uri": "https://localhost:8080/"
    },
    "executionInfo": {
     "elapsed": 31,
     "status": "ok",
     "timestamp": 1676366858208,
     "user": {
      "displayName": "Quang Minh Nguyễn",
      "userId": "17314044887814069623"
     },
     "user_tz": -420
    },
    "id": "rg8kHI0cQwcd",
    "outputId": "420fcc18-10f2-4582-9cce-58ef0e917d72"
   },
   "outputs": [
    {
     "name": "stdout",
     "output_type": "stream",
     "text": [
      "[0.99998095 0.97352134 0.95136606 0.93304305 0.91815923 0.90638759\n",
      " 0.89745684 0.89114295 0.8872623  0.885666   0.8862352  0.8888771\n",
      " 0.89352169 0.90011891 0.90863628 0.91905687 0.93137753 0.94560738\n",
      " 0.96176652 0.97988488 1.0000012 ]\n"
     ]
    }
   ],
   "source": [
    "y_test = find_y(dataX, u, coef_matrix)\n",
    "print(y_test)"
   ]
  },
  {
   "cell_type": "code",
   "execution_count": 43,
   "metadata": {
    "executionInfo": {
     "elapsed": 335,
     "status": "ok",
     "timestamp": 1676366879231,
     "user": {
      "displayName": "Quang Minh Nguyễn",
      "userId": "17314044887814069623"
     },
     "user_tz": -420
    },
    "id": "WlGEWJp0Q4_m"
   },
   "outputs": [],
   "source": [
    "def graphic(dataX, dataY, u, coef_matrix):\n",
    "  X_test = np.linspace(dataX.min(), dataY.max(), 10000)\n",
    "  Y_test = []\n",
    "  for i in range(len(X_test)):\n",
    "    Y_test.append(find_y(X_test[i], u, coef_matrix))\n",
    "  plt.scatter(dataX, dataY, s = 30, color = 'blue')\n",
    "\n",
    "  plt.plot(X_test, Y_test, color = 'red')\n",
    "    \n",
    "  plt.tight_layout()\n",
    "  # plt.ylim(7,10)\n",
    "  plt.show()"
   ]
  },
  {
   "cell_type": "code",
   "execution_count": 44,
   "metadata": {
    "colab": {
     "base_uri": "https://localhost:8080/",
     "height": 297
    },
    "executionInfo": {
     "elapsed": 2473,
     "status": "ok",
     "timestamp": 1676366883858,
     "user": {
      "displayName": "Quang Minh Nguyễn",
      "userId": "17314044887814069623"
     },
     "user_tz": -420
    },
    "id": "B9ATp7bjSDxQ",
    "outputId": "b957c073-194f-4f97-fa9e-145060d47e09"
   },
   "outputs": [
    {
     "data": {
      "image/png": "[encoded data removed]",
      "text/plain": [
       "<Figure size 432x288 with 1 Axes>"
      ]
     },
     "metadata": {
      "needs_background": "light"
     },
     "output_type": "display_data"
    }
   ],
   "source": [
    "graphic(dataX, dataY, u, coef_matrix)"
   ]
  },
  {
   "cell_type": "code",
   "execution_count": 45,
   "metadata": {
    "colab": {
     "base_uri": "https://localhost:8080/"
    },
    "executionInfo": {
     "elapsed": 27,
     "status": "ok",
     "timestamp": 1676366862692,
     "user": {
      "displayName": "Quang Minh Nguyễn",
      "userId": "17314044887814069623"
     },
     "user_tz": -420
    },
    "id": "dECsz1HOsoW8",
    "outputId": "b88128da-f955-4d15-bb6c-09f304d443a9"
   },
   "outputs": [
    {
     "name": "stdout",
     "output_type": "stream",
     "text": [
      "Sai so trung binh phuong: \n",
      "\n",
      "9.747673356982152e-06\n"
     ]
    }
   ],
   "source": [
    "print('Sai so trung binh phuong: \\n')\n",
    "print(mse(y_test, dataY))"
   ]
  },
  {
   "cell_type": "code",
   "execution_count": null,
   "metadata": {
    "executionInfo": {
     "elapsed": 25,
     "status": "ok",
     "timestamp": 1676366862693,
     "user": {
      "displayName": "Quang Minh Nguyễn",
      "userId": "17314044887814069623"
     },
     "user_tz": -420
    },
    "id": "GOB37qpSFRgu"
   },
   "outputs": [],
   "source": []
  },
  {
   "cell_type": "code",
   "execution_count": null,
   "metadata": {},
   "outputs": [],
   "source": []
  },
  {
   "cell_type": "code",
   "execution_count": null,
   "metadata": {},
   "outputs": [],
   "source": []
  }
 ],
 "metadata": {
  "colab": {
   "authorship_tag": "ABX9TyNTWlKlGol90/geqnp7eh6l",
   "provenance": []
  },
  "kernelspec": {
   "display_name": "Python 3 (ipykernel)",
   "language": "python",
   "name": "python3"
  },
  "language_info": {
   "codemirror_mode": {
    "name": "ipython",
    "version": 3
   },
   "file_extension": ".py",
   "mimetype": "text/x-python",
   "name": "python",
   "nbconvert_exporter": "python",
   "pygments_lexer": "ipython3",
   "version": "3.9.7"
  }
 },
 "nbformat": 4,
 "nbformat_minor": 1
}
