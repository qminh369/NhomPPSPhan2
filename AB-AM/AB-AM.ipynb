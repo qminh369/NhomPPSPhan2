{
 "cells": [
  {
   "cell_type": "code",
   "execution_count": 3,
   "id": "39b84dd4",
   "metadata": {},
   "outputs": [
    {
     "name": "stdout",
     "output_type": "stream",
     "text": [
      "x_n\t\tpy_n(Du bao)\t\ty_n(Hieu chinh)\n",
      "0.000000 \t      nan \t\t 1.000000\n",
      "0.100000 \t      nan \t\t 1.097450\n",
      "0.200000 \t      nan \t\t 1.189789\n",
      "0.300000 \t      nan \t\t 1.277249\n",
      "0.400000 \t 1.360265 \t\t 1.360198\n",
      "0.500000 \t 1.439069 \t\t 1.439041\n",
      "0.600000 \t 1.514166 \t\t 1.514156\n",
      "0.700000 \t 1.585888 \t\t 1.585885\n",
      "0.800000 \t 1.654531 \t\t 1.654532\n",
      "0.900000 \t 1.720362 \t\t 1.720363\n",
      "1.000000 \t 1.783613 \t\t 1.783615\n",
      "1.100000 \t 1.844493 \t\t 1.844494\n",
      "1.200000 \t 1.903182 \t\t 1.903183\n",
      "1.300000 \t 1.959842 \t\t 1.959843\n",
      "1.400000 \t 2.014617 \t\t 2.014618\n",
      "1.500000 \t 2.067634 \t\t 2.067635\n",
      "1.600000 \t 2.119008 \t\t 2.119009\n",
      "1.700000 \t 2.168842 \t\t 2.168843\n",
      "1.800000 \t 2.217229 \t\t 2.217230\n",
      "1.900000 \t 2.264254 \t\t 2.264254\n",
      "2.000000 \t 2.309993 \t\t 2.309993\n",
      "2.100000 \t 2.354515 \t\t 2.354516\n",
      "2.200000 \t 2.397886 \t\t 2.397886\n",
      "2.300000 \t 2.440163 \t\t 2.440163\n",
      "2.400000 \t 2.481401 \t\t 2.481401\n",
      "2.500000 \t 2.521650 \t\t 2.521650\n",
      "2.600000 \t 2.560956 \t\t 2.560956\n",
      "2.700000 \t 2.599361 \t\t 2.599361\n",
      "2.800000 \t 2.636905 \t\t 2.636906\n",
      "2.900000 \t 2.673627 \t\t 2.673627\n",
      "3.000000 \t 2.709559 \t\t 2.709559\n"
     ]
    },
    {
     "data": {
      "image/png": "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\n",
      "text/plain": [
       "<Figure size 432x288 with 1 Axes>"
      ]
     },
     "metadata": {
      "needs_background": "light"
     },
     "output_type": "display_data"
    }
   ],
   "source": [
    "import numpy as np \n",
    "import matplotlib.pyplot as plt \n",
    "\n",
    "def f(x, y):\n",
    "    # return x**2 + y**2\n",
<<<<<<< HEAD
    "        return (x + 2*y) / (x**2 + 2 * y**2)\n",
    "    # return x + y\n",
=======
    "    return (x + 2*y) / (x**2 + 2 * y**2)\n",
>>>>>>> e673a744fde7e8581a9628748536fca231054c9e
    "def AB_AM(x0, y0, xf, n):\n",
    "    h = (xf - x0) / (n - 1)\n",
    "    x= np.linspace(x0, xf, n)\n",
    "    y = np.zeros([n])\n",
    "    y[0] = y0 \n",
    "    py = np.zeros([n])\n",
    "    for i in range(0, 4):\n",
    "        py[i] = None \n",
    "    \n",
    "    for i in range(1, 4):\n",
    "        k1 = h * f(x[i-1], y0)\n",
    "        k2 = h * f(x[i-1] + h/2, y0 + k1/2)\n",
    "        k3 = h * f(x[i-1] + h/2, y0 + k2/2)\n",
    "        k4 = h * f(x[i-1] + h, y0 + k3)\n",
    "        y[i] = y0 + (k1 + 2*k2 + 2*k3 + k4) / 6\n",
    "        y0 = y[i]\n",
    "    \n",
    "    for i in range(4, n):\n",
    "        py[i] = h/24*(55*f(x[i-1], y[i-1]) - 59*f(x[i-2], y[i-2]) + 37*f(x[i-3], y[i-3]) - 9*f(x[i-4], y[i-4])) + y[i-1] \n",
    "        y[i] = h/24*(9*f(x[i], py[i]) + 19*f(x[i-1], y[i-1]) - 5*f(x[i-2], y[i-2]) + f(x[i-3], y[i-3])) + y[i-1]\n",
    "      \n",
    "    print(\"x_n\\t\\tpy_n(Du bao)\\t\\ty_n(Hieu chinh)\")\n",
    "    for i in range(n):\n",
    "        print(format(x[i],'6f'),\"\\t\",format(py[i],'8f'),\"\\t\\t\",format(y[i],'8f'))\n",
    "        \n",
    "    plt.plot(x,y,'o')\n",
    "    plt.xlabel(\"Value of x\")\n",
    "    plt.ylabel(\"Value of y\")\n",
    "    plt.title(\"Approximation Solution with Adams-Bashforth-Moulton Method\")\n",
    "    plt.show()\n",
    " \n",
    "if __name__ == '__main__':\n",
    "    x0 = 0\n",
    "    y0 = 0\n",
    "    xf = 1 \n",
    "    n = 11\n",
    "    \n",
    "    x0 = 0\n",
    "    y0 = 1\n",
    "    xf = 3\n",
    "    n = 4\n",
    "    \n",
    "    x0 = 0\n",
    "    y0 = 1\n",
    "    xf = 3\n",
    "    n = 31\n",
    "    AB_AM(x0, y0, xf, n)\n",
    "     "
   ]
  },
  {
   "cell_type": "code",
   "execution_count": null,
   "id": "2420c5c1",
   "metadata": {},
   "outputs": [],
   "source": []
  }
 ],
 "metadata": {
  "kernelspec": {
   "display_name": "Python 3 (ipykernel)",
   "language": "python",
   "name": "python3"
  },
  "language_info": {
   "codemirror_mode": {
    "name": "ipython",
    "version": 3
   },
   "file_extension": ".py",
   "mimetype": "text/x-python",
   "name": "python",
   "nbconvert_exporter": "python",
   "pygments_lexer": "ipython3",
   "version": "3.9.7"
  }
 },
 "nbformat": 4,
 "nbformat_minor": 5
}
